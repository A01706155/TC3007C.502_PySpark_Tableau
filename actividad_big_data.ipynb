{
 "cells": [
  {
   "cell_type": "markdown",
   "id": "78f80046",
   "metadata": {},
   "source": [
    "# Manolo Ramírez Pintor - A01706155\n",
    "## Módulo Big Data:\n",
    "### Utilización, procesamiento y visualización de grandes volúmenes de datos"
   ]
  },
  {
   "cell_type": "markdown",
   "id": "a2e69bb0",
   "metadata": {},
   "source": [
    "## 1. Configurando el entorno de trabajo PySpark"
   ]
  },
  {
   "cell_type": "markdown",
   "id": "527bcd84",
   "metadata": {},
   "source": [
    "Iniciamos revisando los recursos que tenemos disponibles en el sistema"
   ]
  },
  {
   "cell_type": "markdown",
   "id": "d2077f80",
   "metadata": {},
   "source": [
    "Tenemos aproximadamente medio GB de RAM utilizado de los 24 GB que tenemos disponibles en total, así que tenemos suficientes recursos para trabajar con un dataset grande."
   ]
  },
  {
   "cell_type": "code",
   "execution_count": 1,
   "id": "90555ef7",
   "metadata": {},
   "outputs": [
    {
     "name": "stdout",
     "output_type": "stream",
     "text": [
      "              total        used        free      shared  buff/cache   available\r\n",
      "Mem:          23988       11522        6186        5024        6279        7165\r\n",
      "Swap:             0           0           0\r\n"
     ]
    }
   ],
   "source": [
    "!free -m"
   ]
  },
  {
   "cell_type": "code",
   "execution_count": 2,
   "id": "f8ce47f5",
   "metadata": {},
   "outputs": [
    {
     "name": "stdout",
     "output_type": "stream",
     "text": [
      "ubuntu\r\n"
     ]
    }
   ],
   "source": [
    "!whoami"
   ]
  },
  {
   "cell_type": "markdown",
   "id": "c6cc5e3b",
   "metadata": {},
   "source": [
    "Para evitar tener muchos mensajes de advertencia en el notebook, importamos warnings para filtrarlos todos"
   ]
  },
  {
   "cell_type": "code",
   "execution_count": 3,
   "id": "c77381e2",
   "metadata": {},
   "outputs": [],
   "source": [
    "import warnings\n",
    "warnings.filterwarnings('ignore')"
   ]
  },
  {
   "cell_type": "markdown",
   "id": "a34bd9ed",
   "metadata": {},
   "source": [
    "Ahora, ponemos las rutas de donde tenemos instalado Java 8 y Spark"
   ]
  },
  {
   "cell_type": "code",
   "execution_count": 4,
   "id": "e4ad8512",
   "metadata": {},
   "outputs": [],
   "source": [
    "#Estableciendo variable de entorno\n",
    "import os\n",
    "# import pandas as pd\n",
    "os.environ[\"JAVA_HOME\"] = \"/usr/lib/jvm/java-8-openjdk-arm64\"\n",
    "os.environ[\"SPARK_HOME\"] = \"/home/mc/spark/spark-3.2.2-bin-hadoop3.2\""
   ]
  },
  {
   "cell_type": "markdown",
   "id": "be40a4e4",
   "metadata": {},
   "source": [
    "Importamos findspark e inicializamos la instalación de Spark"
   ]
  },
  {
   "cell_type": "code",
   "execution_count": 5,
   "id": "545e92cc",
   "metadata": {},
   "outputs": [
    {
     "data": {
      "text/plain": [
       "'/home/mc/spark/spark-3.2.2-bin-hadoop3.2'"
      ]
     },
     "execution_count": 5,
     "metadata": {},
     "output_type": "execute_result"
    }
   ],
   "source": [
    "#Buscando e inicializando la instalación de Spark\n",
    "import findspark\n",
    "findspark.init()\n",
    "findspark.find()"
   ]
  },
  {
   "cell_type": "markdown",
   "id": "04fdf385",
   "metadata": {},
   "source": [
    "Ahora importamos SparkSession y creamos una sesión para este trabajo, en mi caso se llama ``bigData_Manolo``"
   ]
  },
  {
   "cell_type": "code",
   "execution_count": 6,
   "id": "f494cddf",
   "metadata": {},
   "outputs": [
    {
     "name": "stderr",
     "output_type": "stream",
     "text": [
      "Setting default log level to \"WARN\".\n",
      "To adjust logging level use sc.setLogLevel(newLevel). For SparkR, use setLogLevel(newLevel).\n",
      "22/10/29 18:23:24 WARN NativeCodeLoader: Unable to load native-hadoop library for your platform... using builtin-java classes where applicable\n"
     ]
    },
    {
     "data": {
      "text/html": [
       "\n",
       "            <div>\n",
       "                <p><b>SparkSession - in-memory</b></p>\n",
       "                \n",
       "        <div>\n",
       "            <p><b>SparkContext</b></p>\n",
       "\n",
       "            <p><a href=\"http://fox-arm.subnet02281739.vcn02281739.oraclevcn.com:4040\">Spark UI</a></p>\n",
       "\n",
       "            <dl>\n",
       "              <dt>Version</dt>\n",
       "                <dd><code>v3.2.2</code></dd>\n",
       "              <dt>Master</dt>\n",
       "                <dd><code>local[*]</code></dd>\n",
       "              <dt>AppName</dt>\n",
       "                <dd><code>bigData_Manolo</code></dd>\n",
       "            </dl>\n",
       "        </div>\n",
       "        \n",
       "            </div>\n",
       "        "
      ],
      "text/plain": [
       "<pyspark.sql.session.SparkSession at 0xffff703503a0>"
      ]
     },
     "execution_count": 6,
     "metadata": {},
     "output_type": "execute_result"
    }
   ],
   "source": [
    "from pyspark.sql import SparkSession\n",
    "spark_session = SparkSession.builder.appName('bigData_Manolo').getOrCreate()\n",
    "spark_session"
   ]
  },
  {
   "cell_type": "markdown",
   "id": "4e5607f4",
   "metadata": {},
   "source": [
    "## 2. Seleccionando un dataset de gran tamaño\n",
    "En mi caso, encontré y seleccioné el dataset de [Car Sales](https://www.kaggle.com/datasets/ekibee/car-sales-information), este lo encontré en Kaggle usando los filtros de tamaño. El peso del dataset descomprimido llega a 2GB."
   ]
  },
  {
   "cell_type": "markdown",
   "id": "0d129257",
   "metadata": {},
   "source": [
    "## 3. Generando un modelo inteligente de regresión con MLlib\n",
    "### a) EDA básico\n",
    "Ya que en Kaggle se indica que los datos no están completamente limpios, voy a revisar qué columnas tienen datos faltantes y qué es lo que puede servirme para luego hacer ETL y comenzar a realizar predicciones.   \n",
    "\n",
    "Al momento de cargar el dataset, podemos ver que existen distintas columnas. Estos son datos obtenidos de una página parecida a un Mercado Libre ruso de automóviles.   \n",
    "\n",
    "Tenemos columnas como la marca, el modelo, el tipo de carrocería, color, tipo de combustible, año, kilometraje, tipo de transmisión, poder en caballos de fuerza, precio en rublos, el nombre del motor, la capacidad del motor (en litros), la fecha de publicación, la ubicación del automóvil, el link de la publicación, la descripción y el momento en el que se capturó la información desde la página."
   ]
  },
  {
   "cell_type": "code",
   "execution_count": 7,
   "id": "7773a9d4",
   "metadata": {},
   "outputs": [
    {
     "data": {
      "text/plain": [
       "['brand',\n",
       " 'name',\n",
       " 'bodyType',\n",
       " 'color',\n",
       " 'fuelType',\n",
       " 'year',\n",
       " 'mileage',\n",
       " 'transmission',\n",
       " 'power',\n",
       " 'price',\n",
       " 'vehicleConfiguration',\n",
       " 'engineName',\n",
       " 'engineDisplacement',\n",
       " 'date',\n",
       " 'location',\n",
       " 'link',\n",
       " 'description',\n",
       " 'parse_date']"
      ]
     },
     "execution_count": 7,
     "metadata": {},
     "output_type": "execute_result"
    }
   ],
   "source": [
    "df_spark = spark_session.read.option(\"header\",True).csv('region25.csv')\n",
    "df_spark.columns"
   ]
  },
  {
   "cell_type": "markdown",
   "id": "12627bc2",
   "metadata": {},
   "source": [
    "En base a la información que encontré en Kaggle, estableceremos el tipo de dato por columna."
   ]
  },
  {
   "cell_type": "code",
   "execution_count": 8,
   "id": "6da5b8f3",
   "metadata": {},
   "outputs": [],
   "source": [
    "df_spark = df_spark.withColumn(\"date\",df_spark.date.cast('string'))\n",
    "df_spark = df_spark.withColumn(\"parse_date\",df_spark.parse_date.cast('string'))\n",
    "df_spark = df_spark.withColumn(\"year\",df_spark.year.cast('int'))\n",
    "df_spark = df_spark.withColumn(\"mileage\",df_spark.mileage.cast('int'))\n",
    "df_spark = df_spark.withColumn(\"power\",df_spark.power.cast('int'))\n",
    "df_spark = df_spark.withColumn(\"price\",df_spark.price.cast('int'))"
   ]
  },
  {
   "cell_type": "markdown",
   "id": "3e09d4e7",
   "metadata": {},
   "source": [
    "A continuación realizaré un describe, aparecerá roto por el gran número de columnas pero lo arreglaré con Markdown..."
   ]
  },
  {
   "cell_type": "markdown",
   "id": "53d8212c",
   "metadata": {},
   "source": [
    "* Tenemos 1,513,200 filas totales en el dataset.   \n",
    "* El precio promedio de los automóviles es de 1,368,558.3 rublos.   \n",
    "* Hay columnas que son de datos numéricos pero que presentan valores nulos."
   ]
  },
  {
   "cell_type": "code",
   "execution_count": 9,
   "id": "84355b94",
   "metadata": {
    "scrolled": true
   },
   "outputs": [
    {
     "name": "stderr",
     "output_type": "stream",
     "text": [
      "[Stage 1:=====================================================>   (14 + 1) / 15]\r"
     ]
    },
    {
     "name": "stdout",
     "output_type": "stream",
     "text": [
      "+-------+-------+------------------+-------------+-------+--------+------------------+------------------+------------+-----------------+------------------+--------------------+-----------+------------------+-------------------+-----------+--------------------+--------------------+--------------------+\n",
      "|summary|  brand|              name|     bodyType|  color|fuelType|              year|           mileage|transmission|            power|             price|vehicleConfiguration| engineName|engineDisplacement|               date|   location|                link|         description|          parse_date|\n",
      "+-------+-------+------------------+-------------+-------+--------+------------------+------------------+------------+-----------------+------------------+--------------------+-----------+------------------+-------------------+-----------+--------------------+--------------------+--------------------+\n",
      "|  count|1513200|           1513200|      1513200|1403466| 1509640|           1102226|           1498720|     1510135|          1492313|           1513200|             1102226|    1101142|           1092435|            1513200|    1513200|             1513200|             1477463|             1513200|\n",
      "|   mean|   null|1773.5805008944544|         null|   null|    null|2010.3404338130292|134250.93212874988|        null|145.8111408263548| 1368558.300035686|  11.250605168465825|       null|              null|               null|       null|                null|     8.9146877521E10|  3.3098591549295775|\n",
      "| stddev|   null|1015.7212254077098|         null|   null|    null| 7.568867638264089| 85203.82544809658|        null|70.08857549984492|1573677.1363237544|   60.40935143592945|       null|              null|               null|       null|                null|                 0.0|  2.0669060668646346|\n",
      "|    min|  Acura|          1-Series|   Джип 3 дв.|Бежевый|  Бензин|              1943|              1000|        АКПП|                9|             15000| 1.0 CILQ G Packa...|       10HM|           0.5 LTR|2022-08-19 00:00:00|    Анучино|https://anuchino....|! ! ! ПЕРЕКУПОВ П...|  ОТЛИЧНОЕ СОСТОЯ...|\n",
      "|    max|    УАЗ|            Хантер|Хэтчбек 5 дв.| Черный| Электро|              2022|           1000000|       Робот|             1000|          41500000|           ГАЗ-М-21Л|УМЗ-4218.10|           6.4 LTR|2022-09-26 00:00:00|Ярославский|https://zarubino....|                  ……|чем у автомата.Ав...|\n",
      "+-------+-------+------------------+-------------+-------+--------+------------------+------------------+------------+-----------------+------------------+--------------------+-----------+------------------+-------------------+-----------+--------------------+--------------------+--------------------+\n",
      "\n"
     ]
    },
    {
     "name": "stderr",
     "output_type": "stream",
     "text": [
      "                                                                                \r"
     ]
    }
   ],
   "source": [
    "df_spark.describe().show()"
   ]
  },
  {
   "cell_type": "markdown",
   "id": "448a9545",
   "metadata": {},
   "source": [
    "Ahora veremos si las columnas tienen el tipo de dato correcto."
   ]
  },
  {
   "cell_type": "code",
   "execution_count": 10,
   "id": "75322b30",
   "metadata": {},
   "outputs": [
    {
     "name": "stdout",
     "output_type": "stream",
     "text": [
      "brand , string\n",
      "name , string\n",
      "bodyType , string\n",
      "color , string\n",
      "fuelType , string\n",
      "year , int\n",
      "mileage , int\n",
      "transmission , string\n",
      "power , int\n",
      "price , int\n",
      "vehicleConfiguration , string\n",
      "engineName , string\n",
      "engineDisplacement , string\n",
      "date , string\n",
      "location , string\n",
      "link , string\n",
      "description , string\n",
      "parse_date , string\n"
     ]
    }
   ],
   "source": [
    "# Obtenemos el tipo de dato de las columnas\n",
    "for col in df_spark.dtypes:\n",
    "    print(col[0]+\" , \"+col[1])"
   ]
  },
  {
   "cell_type": "markdown",
   "id": "7ff5112b",
   "metadata": {},
   "source": [
    "Ya que ahora los tipos de dato son correctos, procederemos a ver qué columnas presentan valores nulos"
   ]
  },
  {
   "cell_type": "code",
   "execution_count": 11,
   "id": "a52a9656",
   "metadata": {},
   "outputs": [
    {
     "name": "stderr",
     "output_type": "stream",
     "text": [
      "[Stage 4:=====================================================>   (14 + 1) / 15]\r"
     ]
    },
    {
     "name": "stdout",
     "output_type": "stream",
     "text": [
      "+-----+----+--------+------+--------+------+-------+------------+-----+-----+--------------------+----------+------------------+----+--------+----+-----------+----------+\n",
      "|brand|name|bodyType|color |fuelType|year  |mileage|transmission|power|price|vehicleConfiguration|engineName|engineDisplacement|date|location|link|description|parse_date|\n",
      "+-----+----+--------+------+--------+------+-------+------------+-----+-----+--------------------+----------+------------------+----+--------+----+-----------+----------+\n",
      "|0    |0   |0       |109734|3560    |410974|14480  |3065        |20887|0    |410974              |412058    |420765            |0   |0       |0   |35737      |0         |\n",
      "+-----+----+--------+------+--------+------+-------+------------+-----+-----+--------------------+----------+------------------+----+--------+----+-----------+----------+\n",
      "\n"
     ]
    },
    {
     "name": "stderr",
     "output_type": "stream",
     "text": [
      "                                                                                \r"
     ]
    }
   ],
   "source": [
    "# Ahora contaremos los valores nulos con isnan, when, count y col\n",
    "from pyspark.sql.functions import isnan, when, count, col\n",
    "df_spark.select([count(when(isnan(c) | col(c).isNull(), c)).alias(c) for c in df_spark.columns]).show(truncate=False)"
   ]
  },
  {
   "cell_type": "markdown",
   "id": "94311700",
   "metadata": {},
   "source": [
    "Como la tabla no sale bien, pondré manualmente qué columnas presentan valores nulos y cuántos:\n",
    "* Color: 109,734\n",
    "* fuelType: 3,560\n",
    "* Year: 410,974\n",
    "* Mileage: 14,480\n",
    "* Transmission: 3,065\n",
    "* Power: 20,887\n",
    "* vehicleConfiguration: 410,974\n",
    "* engineName: 412,058\n",
    "* engineDisplacement: 420,765\n",
    "* description: 35,737"
   ]
  },
  {
   "cell_type": "code",
   "execution_count": 12,
   "id": "1ed22b96",
   "metadata": {},
   "outputs": [
    {
     "name": "stderr",
     "output_type": "stream",
     "text": [
      "[Stage 7:=====================================================>   (14 + 1) / 15]\r"
     ]
    },
    {
     "name": "stdout",
     "output_type": "stream",
     "text": [
      "+-----+----+--------+-----+--------+----+-------+------------+-----+-----+--------------------+----------+------------------+----+--------+-----+-----------+----------+\n",
      "|brand|name|bodyType|color|fuelType|year|mileage|transmission|power|price|vehicleConfiguration|engineName|engineDisplacement|date|location| link|description|parse_date|\n",
      "+-----+----+--------+-----+--------+----+-------+------------+-----+-----+--------------------+----------+------------------+----+--------+-----+-----------+----------+\n",
      "|   74|1026|      11|   16|       3|  59|    541|           5|  352| 2986|                7955|      1149|                55|  39|      71|50119|      63606|      2521|\n",
      "+-----+----+--------+-----+--------+----+-------+------------+-----+-----+--------------------+----------+------------------+----+--------+-----+-----------+----------+\n",
      "\n"
     ]
    },
    {
     "name": "stderr",
     "output_type": "stream",
     "text": [
      "                                                                                \r"
     ]
    }
   ],
   "source": [
    "# Ahora para obtener los valores únicos, utilizaremos count_distincst\n",
    "from pyspark.sql.functions import count_distinct\n",
    "\n",
    "# Contaremos los valores únicos de cada columna\n",
    "df_spark.select([count_distinct(c).alias(c) for c in df_spark.columns]).show()"
   ]
  },
  {
   "cell_type": "markdown",
   "id": "ef72c658",
   "metadata": {},
   "source": [
    "Como la tabla no sale bien, pondré manualmente los valores únicos de cada columna:\n",
    "* brand:\t67\n",
    "* name:\t884\n",
    "* bodyType:\t11\n",
    "* color:\t16\n",
    "* fuelType:\t3\n",
    "* year:\t54\n",
    "* mileage:\t483\n",
    "* transmission:\t5\n",
    "* power:\t323\n",
    "* price:\t2037\n",
    "* vehicleConfiguration:\t5620\n",
    "* engineName:\t897\n",
    "* engineDisplacement:\t53\n",
    "* date:\t16\n",
    "* location:\t69\n",
    "* link:\t24757\n",
    "* description:\t28790\n",
    "* parse_date:\t307"
   ]
  },
  {
   "cell_type": "markdown",
   "id": "a6c5edf6",
   "metadata": {},
   "source": [
    "### b) ETL\n",
    "Viendo un poco las columnas que tenemos y las descripciones cortas obtenidas de Kaggle, tenemos información que **no nos va a servir de inicio**, como ``parse_date``, ``description``, ``link``, ``location``, ``date``, ``engineDisplacement``, ``engineName``, ``vehicleConfiguration`` y ``year``.   \n",
    "\n",
    "La justificación de quitarlos es que presentan una gran cantidad de datos nulos, no son relevantes para la venta de un automóvil, existen automóviles viejos que pueden ser muy baratos y muy caros a la vez e incluso hay datos que son únicos por registro. Entonces procederemos a hacer un drop de las columnas."
   ]
  },
  {
   "cell_type": "code",
   "execution_count": 13,
   "id": "0c2c86e5",
   "metadata": {},
   "outputs": [],
   "source": [
    "df_spark = df_spark.drop('year','vehicleConfiguration','engineName',\n",
    "                         'engineDisplacement', 'link','description',\n",
    "                         'parse_date','date','location')"
   ]
  },
  {
   "cell_type": "markdown",
   "id": "8a2176bf",
   "metadata": {},
   "source": [
    "Revisamos las columnas que nos quedan, ahora podremos trabajar mejor con estos datos."
   ]
  },
  {
   "cell_type": "code",
   "execution_count": 14,
   "id": "55b41078",
   "metadata": {},
   "outputs": [
    {
     "data": {
      "text/plain": [
       "['brand',\n",
       " 'name',\n",
       " 'bodyType',\n",
       " 'color',\n",
       " 'fuelType',\n",
       " 'mileage',\n",
       " 'transmission',\n",
       " 'power',\n",
       " 'price']"
      ]
     },
     "execution_count": 14,
     "metadata": {},
     "output_type": "execute_result"
    }
   ],
   "source": [
    "df_spark.columns"
   ]
  },
  {
   "cell_type": "markdown",
   "id": "2fd7ee23",
   "metadata": {},
   "source": [
    "Procederemos a revisar las columnas con pocos valores únicos y que coincidan con los nulos para ver lo que contienen"
   ]
  },
  {
   "cell_type": "code",
   "execution_count": 15,
   "id": "01f7c023",
   "metadata": {},
   "outputs": [
    {
     "name": "stderr",
     "output_type": "stream",
     "text": [
      "                                                                                \r"
     ]
    },
    {
     "data": {
      "text/plain": [
       "[Row(color='Бордовый'),\n",
       " Row(color='Белый'),\n",
       " Row(color='Золотистый'),\n",
       " Row(color='Коричневый'),\n",
       " Row(color=None),\n",
       " Row(color='Оранжевый'),\n",
       " Row(color='Серебристый'),\n",
       " Row(color='Розовый'),\n",
       " Row(color='Фиолетовый'),\n",
       " Row(color='Бежевый'),\n",
       " Row(color='Красный'),\n",
       " Row(color='Голубой'),\n",
       " Row(color='Серый'),\n",
       " Row(color='Желтый'),\n",
       " Row(color='Зеленый'),\n",
       " Row(color='Черный'),\n",
       " Row(color='Синий')]"
      ]
     },
     "execution_count": 15,
     "metadata": {},
     "output_type": "execute_result"
    }
   ],
   "source": [
    "# Obtenemos los colores de los automóviles\n",
    "df_spark.select('color').distinct().collect()"
   ]
  },
  {
   "cell_type": "code",
   "execution_count": 16,
   "id": "b3067eb1",
   "metadata": {
    "scrolled": true
   },
   "outputs": [
    {
     "name": "stderr",
     "output_type": "stream",
     "text": [
      "                                                                                \r"
     ]
    },
    {
     "data": {
      "text/plain": [
       "[Row(fuelType=None),\n",
       " Row(fuelType='Дизель'),\n",
       " Row(fuelType='Электро'),\n",
       " Row(fuelType='Бензин')]"
      ]
     },
     "execution_count": 16,
     "metadata": {},
     "output_type": "execute_result"
    }
   ],
   "source": [
    "# Obtenemos los tipos de combustión de los automóviles\n",
    "df_spark.select('fuelType').distinct().collect()"
   ]
  },
  {
   "cell_type": "code",
   "execution_count": 17,
   "id": "36e3d999",
   "metadata": {},
   "outputs": [
    {
     "name": "stderr",
     "output_type": "stream",
     "text": [
      "                                                                                \r"
     ]
    },
    {
     "data": {
      "text/plain": [
       "[Row(transmission='Механика'),\n",
       " Row(transmission='Робот'),\n",
       " Row(transmission=None),\n",
       " Row(transmission='Вариатор'),\n",
       " Row(transmission='Автомат'),\n",
       " Row(transmission='АКПП')]"
      ]
     },
     "execution_count": 17,
     "metadata": {},
     "output_type": "execute_result"
    }
   ],
   "source": [
    "# Transmisión\n",
    "df_spark.select('transmission').distinct().collect()"
   ]
  },
  {
   "cell_type": "markdown",
   "id": "ff9e4027",
   "metadata": {},
   "source": [
    "Después de un análisis rápido, pude ver que es posible generalizar datos nulos en vez de borrarlos directamente y comenzar a perder información.   \n",
    "\n",
    "Por ejemplo, el color más común de los automóviles es blanco y podemos partir de ahí para rellenar los strings nulos o vacíos con ``Белый``."
   ]
  },
  {
   "cell_type": "code",
   "execution_count": 18,
   "id": "24f9794e",
   "metadata": {},
   "outputs": [],
   "source": [
    "df_spark = df_spark.na.fill('Белый', 'color')"
   ]
  },
  {
   "cell_type": "markdown",
   "id": "c897f95b",
   "metadata": {},
   "source": [
    "Ahora, el tipo de combustible que más se ues es la gasolina, siendo la más común de los automóviles, así que llenaré el tipo de combustible con ``Бензин``."
   ]
  },
  {
   "cell_type": "code",
   "execution_count": 19,
   "id": "310b297a",
   "metadata": {},
   "outputs": [],
   "source": [
    "df_spark = df_spark.na.fill('Бензин', 'fuelType')"
   ]
  },
  {
   "cell_type": "markdown",
   "id": "d0d25865",
   "metadata": {},
   "source": [
    "Revisando el progreso de los valores nulos, ahora sólo quedan las columnas de kilometraje, poder y transmisión."
   ]
  },
  {
   "cell_type": "code",
   "execution_count": 20,
   "id": "d4fcd3b3",
   "metadata": {},
   "outputs": [
    {
     "name": "stderr",
     "output_type": "stream",
     "text": [
      "[Stage 22:================================================>       (13 + 2) / 15]\r"
     ]
    },
    {
     "name": "stdout",
     "output_type": "stream",
     "text": [
      "+-----+----+--------+-----+--------+-------+------------+-----+-----+\n",
      "|brand|name|bodyType|color|fuelType|mileage|transmission|power|price|\n",
      "+-----+----+--------+-----+--------+-------+------------+-----+-----+\n",
      "|0    |0   |0       |0    |0       |14480  |3065        |20887|0    |\n",
      "+-----+----+--------+-----+--------+-------+------------+-----+-----+\n",
      "\n"
     ]
    },
    {
     "name": "stderr",
     "output_type": "stream",
     "text": [
      "                                                                                \r"
     ]
    }
   ],
   "source": [
    "df_spark.select([count(when(isnan(c) | col(c).isNull(), c)).alias(c) for c in df_spark.columns]).show(truncate=False)"
   ]
  },
  {
   "cell_type": "markdown",
   "id": "c3eb8001",
   "metadata": {},
   "source": [
    "Las columnas de poder y kilometraje las podemos reemplazar con valores de la media, el promedio o la moda ya que son columnas con el tipo de dato entero."
   ]
  },
  {
   "cell_type": "code",
   "execution_count": 21,
   "id": "c6b208e6",
   "metadata": {},
   "outputs": [],
   "source": [
    "from pyspark.ml.feature import Imputer\n",
    "\n",
    "imputer = Imputer(\n",
    "    inputCols = ['power', 'mileage'],\n",
    "    outputCols = ['power', 'mileage']\n",
    ").setStrategy('mean')"
   ]
  },
  {
   "cell_type": "code",
   "execution_count": 22,
   "id": "42262aa6",
   "metadata": {},
   "outputs": [
    {
     "name": "stderr",
     "output_type": "stream",
     "text": [
      "                                                                                \r"
     ]
    }
   ],
   "source": [
    "df_spark = imputer.fit(df_spark).transform(df_spark)"
   ]
  },
  {
   "cell_type": "markdown",
   "id": "612fcf54",
   "metadata": {},
   "source": [
    "Quizá sea bueno poner los tipos de transmisión faltantes con la moda por esta ocasión.   \n",
    "\n",
    "Usaré consultas SQL ya que no encontré otra manera de hallar la moda y el Imputer tristemente me da error si trato de hacerlo con tipo de dato de string."
   ]
  },
  {
   "cell_type": "code",
   "execution_count": 23,
   "id": "642a18cf",
   "metadata": {},
   "outputs": [
    {
     "name": "stderr",
     "output_type": "stream",
     "text": [
      "[Stage 30:====================================================>   (14 + 1) / 15]\r"
     ]
    },
    {
     "name": "stdout",
     "output_type": "stream",
     "text": [
      "+------------+------+\n",
      "|transmission| count|\n",
      "+------------+------+\n",
      "|    Вариатор|677023|\n",
      "|        АКПП|645355|\n",
      "|    Механика| 73331|\n",
      "|     Автомат| 59233|\n",
      "|       Робот| 55193|\n",
      "+------------+------+\n",
      "\n"
     ]
    },
    {
     "name": "stderr",
     "output_type": "stream",
     "text": [
      "                                                                                \r"
     ]
    }
   ],
   "source": [
    "df_aux = df_spark.where(col('transmission').isNotNull())\n",
    "\n",
    "df_aux.createOrReplaceTempView('table')\n",
    "df_aux_2 = spark_session.sql(\n",
    "    'SELECT transmission, COUNT(transmission) AS count FROM table GROUP BY transmission ORDER BY count desc'\n",
    ")\n",
    "\n",
    "df_aux_2.show()"
   ]
  },
  {
   "cell_type": "markdown",
   "id": "da919dda",
   "metadata": {},
   "source": [
    "Podemos observar que el tipo de transmisión más común es el de CVT, (o transmisión continuamente variable), así que se lo asignaremos a los valores nulos."
   ]
  },
  {
   "cell_type": "code",
   "execution_count": 24,
   "id": "10607605",
   "metadata": {},
   "outputs": [],
   "source": [
    "df_spark = df_spark.na.fill('Вариатор', 'transmission')"
   ]
  },
  {
   "cell_type": "markdown",
   "id": "a2795c4f",
   "metadata": {},
   "source": [
    "Ahora revisaré si ya no tenemos valores nulos en nuestro dataset..."
   ]
  },
  {
   "cell_type": "code",
   "execution_count": 25,
   "id": "2d638114",
   "metadata": {},
   "outputs": [
    {
     "name": "stderr",
     "output_type": "stream",
     "text": [
      "[Stage 33:================================================>       (13 + 2) / 15]\r"
     ]
    },
    {
     "name": "stdout",
     "output_type": "stream",
     "text": [
      "+-----+----+--------+-----+--------+-------+------------+-----+-----+\n",
      "|brand|name|bodyType|color|fuelType|mileage|transmission|power|price|\n",
      "+-----+----+--------+-----+--------+-------+------------+-----+-----+\n",
      "|0    |0   |0       |0    |0       |0      |0           |0    |0    |\n",
      "+-----+----+--------+-----+--------+-------+------------+-----+-----+\n",
      "\n"
     ]
    },
    {
     "name": "stderr",
     "output_type": "stream",
     "text": [
      "                                                                                \r"
     ]
    }
   ],
   "source": [
    "df_spark.select([count(when(isnan(c) | col(c).isNull(), c)).alias(c) for c in df_spark.columns]).show(truncate=False)"
   ]
  },
  {
   "cell_type": "markdown",
   "id": "7cdf8b70",
   "metadata": {},
   "source": [
    "Ya que no tenemos ningún dato nulo y puedo decir que ahora mis datos están limpios, guardaré una copia y la insertaré dentro de Tableau más adelante para observar datos de forma visual y darme una idea de cómo están las cosas. 😀   \n"
   ]
  },
  {
   "cell_type": "code",
   "execution_count": 26,
   "id": "5bc103e7",
   "metadata": {},
   "outputs": [
    {
     "name": "stderr",
     "output_type": "stream",
     "text": [
      "                                                                                \r"
     ]
    }
   ],
   "source": [
    "df_spark.repartition(1).write.option(\"header\", True).csv('region25_noNull.csv')"
   ]
  },
  {
   "cell_type": "markdown",
   "id": "31422bf6",
   "metadata": {},
   "source": [
    "### c) Generando el modelo con MLLib\n",
    "Ahora vamos a generar un modelo inteligente de clasificación de regresión con el objetivo de predecir el precio de los automóviles en el mercado libre ruso de automóviles.   \n",
    "\n",
    "Como tengo datos en string, es importante que convierta esa información a datos categóricos. El aprendizaje de máquina no funciona si le das strings así que tiene que existir una conversión numérica.   \n",
    "\n",
    "El ``[:-1]`` sirve para excluír la última columna que queremos predecir (precio), así que no saldrá en el output"
   ]
  },
  {
   "cell_type": "code",
   "execution_count": 27,
   "id": "6754668a",
   "metadata": {},
   "outputs": [
    {
     "name": "stdout",
     "output_type": "stream",
     "text": [
      "['brand', 'name', 'bodyType', 'color', 'fuelType', 'transmission']\n",
      "['mileage', 'power']\n"
     ]
    }
   ],
   "source": [
    "categorical_cols = [item[0] for item in df_spark.dtypes if item[1].startswith('string')]\n",
    "print(categorical_cols)\n",
    "\n",
    "numerical_cols = [item[0] for item in df_spark.dtypes if item[1].startswith('int') | item[1].startswith('double')][:-1]\n",
    "print(numerical_cols)"
   ]
  },
  {
   "cell_type": "markdown",
   "id": "8b151f8d",
   "metadata": {},
   "source": [
    "Podemos observar que tenemos 6 variables categóricas y 2 variables numéricas.   \n",
    "\n",
    "Ahora sí para convertir los datos vamos a usar las siguientes herramientas de PySpark:"
   ]
  },
  {
   "cell_type": "code",
   "execution_count": 28,
   "id": "6612c8c4",
   "metadata": {},
   "outputs": [],
   "source": [
    "from pyspark.ml.feature import StringIndexer, OneHotEncoder, VectorAssembler\n",
    "stages = [] # Transformer / Estimator\n",
    "\n",
    "# Convertir de strings a 0, 1, 2, etc. (Del más frecuente al menos)\n",
    "# Se creará en una nueva columna\n",
    "for categoricalCol in categorical_cols:\n",
    "    stringIndexer = StringIndexer(inputCol = categoricalCol, outputCol = categoricalCol + 'Index')\n",
    "    OHencoder = OneHotEncoder(inputCols=[stringIndexer.getOutputCol()], outputCols=[categoricalCol + \"_catVec\"])\n",
    "    stages += [stringIndexer, OHencoder]\n",
    "assemblerInputs = [c + \"_catVec\" for c in categorical_cols] + numerical_cols\n",
    "Vectassembler = VectorAssembler(inputCols=assemblerInputs, outputCol=\"features\")\n",
    "stages += [Vectassembler]"
   ]
  },
  {
   "cell_type": "markdown",
   "id": "d1fcd418",
   "metadata": {},
   "source": [
    "Ya que convertimos nuestras variables categóricas a numéricas, aplicaremos los stages de la transformación que hicimos arriba para obtener los features que queremos usar para el aprendizaje de **regresión multilineal.**   \n",
    "\n",
    "Esto lo haremos con ayuda del pipeline de MLLib, así transformaremos algunos datos."
   ]
  },
  {
   "cell_type": "code",
   "execution_count": 29,
   "id": "96ad4f85",
   "metadata": {},
   "outputs": [
    {
     "name": "stderr",
     "output_type": "stream",
     "text": [
      "                                                                                \r"
     ]
    },
    {
     "name": "stdout",
     "output_type": "stream",
     "text": [
      "+--------------------+-------------+------------------+-------------+--------+--------+-------+------------+-----+-------+\n",
      "|            features|        brand|              name|     bodyType|   color|fuelType|mileage|transmission|power|  price|\n",
      "+--------------------+-------------+------------------+-------------+--------+--------+-------+------------+-----+-------+\n",
      "|(1131,[52,697,111...|         Fiat|        124 Spider|     Открытый|   Синий|  Бензин|   8000|     Автомат|  145|1830000|\n",
      "|(1131,[10,624,109...|          BMW|                i3|Хэтчбек 5 дв.|  Черный| Электро|  12000|     Автомат|  145|1830000|\n",
      "|(1131,[8,205,1098...|Mercedes-Benz|         GLE Coupe|   Джип 5 дв.|Бордовый|  Бензин|  57000|        АКПП|  367|4600000|\n",
      "|(1131,[8,179,1098...|Mercedes-Benz|           G-Class|   Джип 5 дв.|  Черный|  Бензин| 200000|        АКПП|  296|2999999|\n",
      "|(1131,[12,212,109...|         Audi|                Q7|   Джип 5 дв.|   Белый|  Бензин|  67000|     Автомат|  252|3300000|\n",
      "|(1131,[3,120,1098...|        Lexus|             RX350|   Джип 5 дв.|Бордовый|  Бензин| 150000|        АКПП|  301|3500000|\n",
      "|(1131,[0,82,1098,...|       Toyota|      Land Cruiser|   Джип 5 дв.|   Белый|  Бензин| 305000|     Автомат|  215| 950000|\n",
      "|(1131,[0,97,1101,...|       Toyota|           Alphard|      Минивэн|   Белый|  Бензин|  83000|    Вариатор|  152|4350000|\n",
      "|(1131,[2,78,1099,...|       Nissan|              Note|Хэтчбек 5 дв.|   Серый|  Бензин|  58000|    Вариатор|   79| 850000|\n",
      "|(1131,[0,129,1101...|       Toyota|          Vellfire|      Минивэн|   Белый|  Бензин| 210000|    Вариатор|  150|1800000|\n",
      "|(1131,[0,76,1098,...|       Toyota|           Harrier|   Джип 5 дв.|   Белый|  Бензин|  20000|        АКПП|  231|3300000|\n",
      "|(1131,[2,103,1098...|       Nissan|              Juke|   Джип 5 дв.|Бордовый|  Бензин|  40000|    Вариатор|  114| 795000|\n",
      "|(1131,[0,74,1103,...|       Toyota|             Prius|      Лифтбек|  Черный|  Бензин| 200000|    Вариатор|   99| 829000|\n",
      "|(1131,[2,258,1101...|       Nissan|           Liberty|      Минивэн|   Белый|  Бензин| 140000|    Вариатор|  147| 235000|\n",
      "|(1131,[0,73,1098,...|       Toyota|Land Cruiser Prado|   Джип 5 дв.|  Черный|  Бензин|  24000|        АКПП|  163|3490000|\n",
      "|(1131,[2,531,1100...|       Nissan|         President|        Седан|   Серый|  Бензин|  94000|        АКПП|  280| 435000|\n",
      "|(1131,[0,87,1100,...|       Toyota|             Camry|        Седан|  Черный|  Бензин|  69000|    Вариатор|  178|1890000|\n",
      "|(1131,[0,73,1098,...|       Toyota|Land Cruiser Prado|   Джип 5 дв.|   Белый|  Дизель|  41000|        АКПП|  177|3450000|\n",
      "|(1131,[6,114,1104...|       Suzuki|            Escudo|   Джип 3 дв.| Красный|  Бензин| 200000|        АКПП|  100| 260000|\n",
      "|(1131,[2,123,1101...|       Nissan|            Serena|      Минивэн|   Белый|  Бензин|  50000|        АКПП|   84|1965000|\n",
      "+--------------------+-------------+------------------+-------------+--------+--------+-------+------------+-----+-------+\n",
      "only showing top 20 rows\n",
      "\n"
     ]
    }
   ],
   "source": [
    "from pyspark.ml import Pipeline\n",
    "# import pandas as pd\n",
    "cols = df_spark.columns\n",
    "pipeline = Pipeline(stages = stages)\n",
    "pipelineModel = pipeline.fit(df_spark)\n",
    "df_spark = pipelineModel.transform(df_spark)\n",
    "selectedCols = ['features']+cols\n",
    "df_spark = df_spark.select(selectedCols)\n",
    "# pd.DataFrame(df_spark.take(5), columns=df_spark.columns)\n",
    "\n",
    "df_spark.show()"
   ]
  },
  {
   "cell_type": "markdown",
   "id": "528fd8fc",
   "metadata": {},
   "source": [
    "Ya que tenemos las dos columnas que nos importan usar para el entrenamiento y pruebas, haremos un select de ambas"
   ]
  },
  {
   "cell_type": "code",
   "execution_count": 30,
   "id": "40d4763c",
   "metadata": {},
   "outputs": [
    {
     "name": "stdout",
     "output_type": "stream",
     "text": [
      "+--------------------+-------+\n",
      "|            features|  price|\n",
      "+--------------------+-------+\n",
      "|(1131,[52,697,111...|1830000|\n",
      "|(1131,[10,624,109...|1830000|\n",
      "|(1131,[8,205,1098...|4600000|\n",
      "|(1131,[8,179,1098...|2999999|\n",
      "|(1131,[12,212,109...|3300000|\n",
      "+--------------------+-------+\n",
      "only showing top 5 rows\n",
      "\n"
     ]
    }
   ],
   "source": [
    "df_spark_final = df_spark.select(\"features\", \"price\")\n",
    "\n",
    "df_spark_final.show(5)"
   ]
  },
  {
   "cell_type": "markdown",
   "id": "779a56a9",
   "metadata": {},
   "source": [
    "Ahora separamos los datos de entrenamiento y de prueba, daré 80% de datos para entrenar y 20% de datos para probar el modelo."
   ]
  },
  {
   "cell_type": "code",
   "execution_count": 42,
   "id": "3f6de09b",
   "metadata": {},
   "outputs": [],
   "source": [
    "train, test = df_spark_final.randomSplit([0.8, 0.2])"
   ]
  },
  {
   "cell_type": "markdown",
   "id": "83190ad0",
   "metadata": {},
   "source": [
    "Procedemos a usar la función de regresión linear con gradiente descendiente usando los datos de entrenamiento."
   ]
  },
  {
   "cell_type": "code",
   "execution_count": 43,
   "id": "ac74ef4f",
   "metadata": {},
   "outputs": [],
   "source": [
    "from pyspark.ml.regression import LinearRegression\n",
    "\n",
    "# Creamos el modelo en una variable y le asignamos las columnas para entrenar\n",
    "MLR = LinearRegression(featuresCol=\"features\", labelCol=\"price\")"
   ]
  },
  {
   "cell_type": "markdown",
   "id": "e0c4e7b6",
   "metadata": {},
   "source": [
    "Ahora, haremos el entrenamiento del modelo usando la función fit()"
   ]
  },
  {
   "cell_type": "code",
   "execution_count": 44,
   "id": "63e81f5e",
   "metadata": {},
   "outputs": [
    {
     "name": "stderr",
     "output_type": "stream",
     "text": [
      "22/10/29 18:30:58 WARN Instrumentation: [ea04eda5] regParam is zero, which might cause numerical instability and overfitting.\n",
      "22/10/29 18:31:12 WARN Instrumentation: [ea04eda5] Cholesky solver failed due to singular covariance matrix. Retrying with Quasi-Newton solver.\n",
      "                                                                                \r"
     ]
    }
   ],
   "source": [
    "modelo = MLR.fit(train)"
   ]
  },
  {
   "cell_type": "markdown",
   "id": "f72b5600",
   "metadata": {},
   "source": [
    "Podemos observar que se está haciendo el fit aunque salga esa advertencia.   \n",
    "\n",
    "La advertencia sale ya que MLLib está a punto de ser descontinuada ya que las herramientas ML de PySpark son mejores en eficiencia y uso."
   ]
  },
  {
   "cell_type": "markdown",
   "id": "8691fccd",
   "metadata": {},
   "source": [
    "## 4. Evaluando el modelo con PySpark"
   ]
  },
  {
   "cell_type": "markdown",
   "id": "5579f9e5",
   "metadata": {},
   "source": [
    "Ya que el entrenamiento ha finalizado, ahora haremos una evaluación usando las herramientas nativas de PySpark"
   ]
  },
  {
   "cell_type": "code",
   "execution_count": 45,
   "id": "dbeea645",
   "metadata": {},
   "outputs": [
    {
     "name": "stderr",
     "output_type": "stream",
     "text": [
      "                                                                                \r"
     ]
    }
   ],
   "source": [
    "prediccion = modelo.evaluate(train)"
   ]
  },
  {
   "cell_type": "markdown",
   "id": "f9f2cf52",
   "metadata": {},
   "source": [
    "Ahora mostraremos las predicciones a ojo de buen cubero para ver qué tan acercado es el modelo a los datos reales, usando el método de predictions"
   ]
  },
  {
   "cell_type": "code",
   "execution_count": 46,
   "id": "c960e158",
   "metadata": {},
   "outputs": [
    {
     "name": "stderr",
     "output_type": "stream",
     "text": [
      "[Stage 79:>                                                         (0 + 1) / 1]\r"
     ]
    },
    {
     "name": "stdout",
     "output_type": "stream",
     "text": [
      "+--------------------+-------+------------------+\n",
      "|            features|  price|        prediction|\n",
      "+--------------------+-------+------------------+\n",
      "|(1131,[0,73,1098,...|4070000|3308410.5401063035|\n",
      "|(1131,[0,73,1098,...|4070000|3308410.5401063035|\n",
      "|(1131,[0,73,1098,...|4070000|3308410.5401063035|\n",
      "|(1131,[0,73,1098,...|4070000|3308410.5401063035|\n",
      "|(1131,[0,73,1098,...|4070000|3308410.5401063035|\n",
      "|(1131,[0,73,1098,...|4070000|3308410.5401063035|\n",
      "|(1131,[0,73,1098,...|4070000|3308410.5401063035|\n",
      "|(1131,[0,73,1098,...|4070000|3308410.5401063035|\n",
      "|(1131,[0,73,1098,...|4070000|3308410.5401063035|\n",
      "|(1131,[0,73,1098,...|4070000|3308410.5401063035|\n",
      "|(1131,[0,73,1098,...|4070000|3308410.5401063035|\n",
      "|(1131,[0,73,1098,...|4250000|3308410.5401063035|\n",
      "|(1131,[0,73,1098,...|4250000|3308410.5401063035|\n",
      "|(1131,[0,73,1098,...|4250000|3308410.5401063035|\n",
      "|(1131,[0,73,1098,...|4250000|3308410.5401063035|\n",
      "|(1131,[0,73,1098,...|4250000|3308410.5401063035|\n",
      "|(1131,[0,73,1098,...|4250000|3308410.5401063035|\n",
      "|(1131,[0,73,1098,...|4250000|3308410.5401063035|\n",
      "|(1131,[0,73,1098,...|4250000|3308410.5401063035|\n",
      "|(1131,[0,73,1098,...|4250000|3308410.5401063035|\n",
      "+--------------------+-------+------------------+\n",
      "only showing top 20 rows\n",
      "\n"
     ]
    },
    {
     "name": "stderr",
     "output_type": "stream",
     "text": [
      "                                                                                \r"
     ]
    }
   ],
   "source": [
    "prediccion.predictions.show()"
   ]
  },
  {
   "cell_type": "markdown",
   "id": "2b98d51c",
   "metadata": {},
   "source": [
    "Podemos observar que la predicción no es muy acertada, vamos a mostrar los coeficientes que se generaron con nuestro modelo:"
   ]
  },
  {
   "cell_type": "code",
   "execution_count": 47,
   "id": "97fcdb5a",
   "metadata": {
    "scrolled": true
   },
   "outputs": [
    {
     "name": "stdout",
     "output_type": "stream",
     "text": [
      "[51934.65907005527,-185390.13881492024,-238029.53564804254,485658.10849771847,-204724.37843062548,-20876.894965088828,6503.025215926085,-99946.26898600116,627705.3820627648,-92440.34989109801,475830.07931478834,827384.4047355,-23269.620389467436,-75091.65102671973,-162606.57346635827,195471.88751269237,468881.3849526611,105994.54629031259,-135906.04428211812,101768.79856994275,-297978.26835997915,-87062.31151841398,-179855.3789220619,668997.7079297022,-554662.0206524454,146717.1302459972,1765780.95992784,-135754.559138954,201711.95323831742,-296541.9978342758,1965131.6541113537,182848.5538388046,-395338.744608471,543980.3691963995,2496719.21908483,451740.79931728763,80046.31508045243,-193081.23499151607,1175349.3319867002,-456981.38566286996,-629545.2700895299,-289612.05952305684,-280936.74163441034,-660697.0504242165,841844.0067549422,696740.4930025802,-446852.8657864232,-810380.9507097952,10026.217805833225,-354524.5544838656,-594994.8178969088,-353999.02961797523,-189769.0024075005,-96841.739441262,156816.20758731378,-172156.36020176846,-151497.8400392164,-601833.8708729666,6825.773337854312,1576844.5600792933,-123558.8764516561,-322824.72810834844,-554293.1029678627,-336247.93807654124,-441936.5596973778,-26154.175380720444,667386.772525061,-182630.36016769466,512246.8040724058,344917.27759337734,7811780.339459168,-385370.0341031238,-643035.4904199148,1517340.0615099412,-2389.6142454995033,-442014.9340514001,587796.1270524465,-578883.8304552734,-253846.24051582176,-591578.9868831723,-585421.7406362602,338000.6219266736,1583404.8652841942,178759.65693789333,149878.69957905446,430556.79224974365,367555.6977407139,-417726.85843270627,-44619.947455861206,238163.98637677074,-130967.18655712582,-500176.3615521883,-1063131.4244551158,-699503.812754161,-553130.1954695082,832537.4079988119,-676660.2739774011,1049405.7913863575,-389404.89319696766,-703768.4470469701,-647464.0815712587,240479.26362714043,-372972.2646147192,-225769.41716179973,522703.20158000285,-269042.23085703544,503285.554305402,-712102.2133011478,524442.215588486,-741472.094436772,6946.025349612181,-333705.3838787141,872312.357389726,-327444.0918578095,76152.78780004682,-231546.9044803395,-414643.47258752154,478404.6263596648,490463.66050459363,-501895.40437727154,275048.15632456704,58325.80036405348,163857.75167962373,483284.89552569063,-740674.7657696181,146716.8611745162,-245272.87037893673,225827.99754137834,933774.0737793272,940928.6831474444,-307249.77271918475,133192.0752063996,-847861.8104490077,102580.86991436823,-647948.9033978503,281179.86307263304,-579327.0280065533,485703.26945065125,-1169644.8635413384,-633837.6347881485,2605317.037849195,-625288.9972621169,57074.7000027906,312007.8232314796,-438985.06786845095,-341355.63173348235,-733855.1725668309,1265818.4347879281,-387986.6917297549,1218928.3097508557,245203.89997361499,-386858.3589359167,-1031404.4349067473,715631.9053019871,-847608.5552480519,868712.1761661138,588131.97654901,202977.54927823646,274461.4010252102,-662024.917948501,300591.31588731357,-1081730.8890715146,-126183.87098490169,-518494.63396149204,-110855.60640734536,-924762.1343054104,-1076587.529732305,-739406.7642107197,-249834.55302787904,-429377.5913855338,-794466.6076049211,-1219444.1058004436,-432261.9850783146,-19996.308263631705,-727005.5865555572,-594828.0527823064,-455503.2602725245,-540601.5314029503,-474489.1007372695,6182381.268761083,-243941.58063749954,1634702.191189246,207183.18738859333,-385203.2854217123,508241.203248278,-556172.2170086671,-953552.8615108058,-485044.8819891176,-826695.5371595208,525509.8364148091,-516622.1033101037,-128992.08541024808,222431.17339896905,-305409.6911695424,-686832.5828860147,657297.9465740748,-687411.4153382127,116676.64210320012,-628651.2510455762,656320.7889242204,57088.65195977997,-893443.7995350935,978941.5698251657,218672.34262250728,639231.5983775862,3138602.8408584464,-527055.9325096499,-746872.0807667465,-176806.29393037944,-102868.92720690068,-105656.8009398858,-510083.5954403723,234373.73415929885,-711513.4639684053,-9764.837598797436,-843384.0706478105,451643.45091825846,-356793.35438241303,109717.46730729488,-1057925.1411354,-383706.39809090574,-953874.2317973318,-689792.2963485738,310743.5894218611,1074438.9331144292,19791.001766255722,-443923.86757015664,-643727.3735125273,198115.02725269095,-690244.90469925,426947.1409738218,542750.3597894342,58842.42969455084,762574.871241765,-231737.90631054976,-316699.5243660797,-81750.76820337503,134964.82177798773,167964.0799717988,279056.73835380905,-499273.4264202189,222058.99180624442,-1929927.5877732132,-65909.00908433896,-615720.3970429562,-1247088.1544874632,-1131325.065572277,-601422.6508771455,-493419.2780069489,3064379.840967248,2823336.3028201144,-418597.32093635894,-997963.3557406797,-497994.44883161,282689.70916144666,-405151.04788870754,-335996.1418015247,-509236.21053093194,-170141.2774319903,732167.1658452635,1370172.4918821978,692152.0931470529,-1136592.8782457174,-492201.19269302016,-135984.99315688683,-1534853.6158283227,396299.0792530481,473754.80538516334,-611423.0190750251,59498.110148971384,5322960.250845914,472709.6146851377,-1349415.4628655338,1489756.2081068752,62219.40120358512,-404710.47117055824,421418.2977184476,-294298.1781431246,404386.751631792,-1716163.7825231124,720063.5403769892,345726.2824087428,520763.76075982815,-565836.7586614292,-393831.9313046986,-719962.3376785034,-648750.9003853445,-386260.64840254135,-639309.1763257051,-322155.3380240519,-863840.4601721882,-456925.6300550412,341747.9751340584,-1672738.6219968414,-63915.31739889802,-430880.0485988952,-1623285.2469314744,225513.0509953259,126470.65177043609,-249630.85679699772,-137509.14329295952,-337938.7548002338,-1119949.4328169073,-1776306.5434750177,282251.468296348,21733.961203769384,-1899220.6136093899,360044.17092435167,-678716.5134971801,428369.0405001916,-71640.31591651362,-623235.8108328673,5963458.244856173,-938563.4532246881,-371316.15851699974,-741660.885502704,-795638.8894079431,2143943.019886088,516129.44029156276,-1353179.2603851436,144160.11824700478,-2907335.0488860286,63916.62857951663,-1215177.84077124,-745031.4163417075,356431.08188789285,-316598.3582683508,-580376.7507846941,-1664283.4909980237,71792.45995110049,929962.1720515791,413427.2320038483,-535934.2373850723,-318946.51125217765,-458969.68805747887,297918.4369618057,-916336.166113116,935729.937479017,-425363.08041085285,7048.226264417804,-148019.31513595895,-351581.91918731533,-1552512.8101287563,-1060000.1903562848,795661.5681613263,1311947.1210775038,-494883.3904474355,-2889.374848969819,-460399.1217309661,-981776.2306626393,-621917.6409306796,-856248.7953244055,-8881.495343586008,488489.3838044746,-247616.25519669565,1062000.6219237398,-170938.95837683816,-948095.5518572929,-1084201.284098018,-393796.370317435,3738650.755515458,-1327796.5241088744,-1018973.3329618486,-872187.9772226975,-184995.65461654158,-1413714.566726634,-2190486.504625178,-669214.8435775968,-365919.00079625455,-366684.1617801521,-25815.301679186116,-809218.5379099925,2600732.77543263,-273635.270239425,-831465.7926718447,-676527.0057895517,213164.82605200986,-464734.57837433426,-1503644.794032786,-836804.5714751869,-135863.49619534225,469443.52446077135,-930180.3718337868,189979.2415634294,-388468.25999591436,-1105685.470224404,-266546.5097224145,1899772.3983668918,815382.5610198171,-800066.7544593193,219241.02070753617,-584357.8312734767,-1077961.1997145864,913183.5295431445,-2729057.5721083614,-1016358.4364543809,-830345.7802077113,1215927.0898042794,-81936.0729489584,35797.1945295318,334959.2558424807,1309244.3918352094,161620.48289701587,-455763.9201909243,-1380008.6553273897,-482923.37317806203,9725351.871080797,-376280.24567999505,-987395.5732173452,-1120144.7401355547,-323449.0672194157,-569401.2607172505,-285097.61794407415,69796.58131256208,-735028.4654808135,-566037.18580465,-177994.6892998242,541105.4026668861,-562951.5386025378,-580301.5971097948,-117198.81653167609,-116199.82886281215,47359.0592161709,-870468.6656329036,-927211.2532122908,423775.02218880376,793405.2207969839,-257554.36438122633,-749691.1339601264,1836479.3518053337,-397195.49892921664,-853571.4945012738,274202.23733649496,-403039.4956327187,-787193.4587163306,-723617.8262540319,-245605.63924451458,-189194.10326365562,-419604.46093235863,-1139539.5080839195,-786426.123304083,-401938.3547493158,-222059.53464547454,509872.47804469365,-10580.975817809303,-389192.76487041346,-352483.8556649686,-1248251.693724522,-1056838.52654388,-827023.741623076,995488.3360996285,-8797.295993899475,94598.90918818626,-446686.99441572145,-257679.88155386687,-206199.715442322,-2801025.57889489,-1809900.3439647425,-526343.9481391996,-536906.9663240048,-1074500.0231337862,-709815.5159142859,-567610.2683973158,-122955.3057623333,-1482377.9035067647,-576222.4781619796,596296.3499082205,-499031.567103273,372688.11809818365,-149712.55793778884,-2901293.760619042,338318.7318296162,-1450167.2358262246,809866.9886524046,-202847.95379567382,-470910.69751877646,62650.976467620385,148422.63525224844,-350487.62823567813,-1788416.833307187,160717.28743290607,577384.639804,-1014717.7359304413,774667.1616485754,-27594.20656976886,-713428.8700169767,562770.3828991355,362693.65813444566,110450.06708474613,-346838.9520635121,110913.74879893038,-678908.7442551841,-313508.2505990326,-401404.8928644846,-579989.7376040288,395982.3324883018,398620.92802301975,700366.126183126,271466.55935802305,-22859.59319397342,-544873.3147116851,-252630.95720748696,-1902150.5229911879,-1527841.8509116797,317253.2325171854,-305623.6425015935,329350.4689626161,-1150328.391079373,-175284.99271029385,106034.76862266808,468569.748709947,-488908.1798155775,-352330.12568632275,-533093.0193981025,-321101.3187751738,-637198.7545268377,-706801.2921181256,-482571.47172869835,-350804.153517853,-715715.1894089933,-612133.2616394466,-1003324.3774536839,275897.470031636,-274687.483348521,139257.0665111379,-5902.11728400826,-635278.0721775492,-195832.65342341963,3528797.970076924,-112344.50740520841,-659968.0361961088,-1884737.4958403225,-280936.74163441034,-592634.4108176227,370526.33936009754,-1590019.1137805271,153686.38949235028,-208484.5250407735,-927536.6787539509,-1547145.3980713575,283168.06976097333,-483251.42512679205,1213914.6155791117,-470506.6967567632,-2546474.3639623574,-769143.1688878672,-168924.93499794137,-1113717.4558681936,6735.557149529212,-1473170.3589223889,-934432.1723447267,895132.8827693484,169110.99890138087,-1268821.2388328954,1318786.6669219306,-30088.892206779205,245715.8041438473,-130607.02241871179,30009.77681828845,-1391705.3403918992,3599127.0259058923,-237711.49286481153,-764567.4410284474,-781955.2221863563,242473.20504359834,1138904.4392090403,-890876.7903599652,-1032338.7694663139,-348308.7941214503,-487095.29700237454,-423915.4692311848,-1392812.393633517,-1190928.6221355675,-655784.6315886142,-972212.5709568657,-548108.5617287575,14891.760437262623,-600311.2662888365,-1092120.2698667406,-473004.1963597085,-442535.5579233349,-778193.9410265065,696740.4930025802,-987248.8209380886,-438249.0801960628,-93951.65727845253,-1010655.4598772905,1532169.176444331,-141797.60171631892,-145699.34224682,1138219.0286540266,133890.71635552746,-501110.67844955437,-1074162.308228803,930591.2735730468,-694105.2857584208,-1821068.468362964,-413125.7975780707,-92129.17330642237,-1544079.2307788907,-659702.6415084214,-556330.6540673204,-3289638.234304959,-989171.0725554691,-365425.7883428409,-168870.31340168943,-1521603.8090619575,-168434.39618019087,-430926.4295193947,-747134.801150425,-839317.44306137,69189.8199347026,639708.812556103,-350671.59720260085,188262.53953217034,-677044.7650533377,-36910.205057027044,-319865.4985657057,58791.47915821079,-307273.9984474716,-337069.9464086564,-375059.7782906477,47081.375041169835,-864458.5727224879,-690844.5210727662,-989308.5302895556,-436442.2113939451,-1425266.1061986152,1031685.3612036529,395289.58539969934,-1414134.0358966973,1917550.8065338142,-478398.7993827973,-1732602.6759211323,563200.9403235837,630669.3837993174,-755386.8869077726,-301844.31353762856,272121.14426620194,-559824.149402988,769917.5387185806,-488288.33453836513,-609179.1082103659,15004313.412322067,-1702962.072173844,-595773.6087432778,-742405.5358250473,-246919.68384547945,-739773.1971898422,275708.7033874571,-560019.9389782416,-598710.5988064513,-614256.0873868247,-398788.1210099242,-96153.0414072634,-294828.572932921,-17587.735177024282,-469742.6717148649,-1390117.9739004362,-671961.4482499138,-435200.00169449963,-530716.1161186742,-369901.4225226658,-573640.273741973,5392513.977063747,-115154.4064396086,-424526.62122256844,4256611.082671579,-109500.1503758511,-201941.93124748842,18034.571159554893,-1417367.9304248837,-1743271.6742495934,582669.4331032865,1618888.0628580104,-763689.1057985199,-1019734.5450194672,-634282.507190959,636455.8104551334,911437.7471020756,-2232851.9326291066,-1502298.9064678862,5335317.22680954,-165793.39407461925,254832.29234975768,-188237.4149943504,315530.6089100614,-367559.95578370575,374675.3299465532,-439260.27335571387,-1056286.9856211462,-399510.4743152849,-371443.81404240784,631359.7887053313,-1617666.4709566198,156816.20758731378,660525.0729007301,-144968.3258129467,-191000.68305936942,389147.6595341015,-678662.2975014849,-872400.2115473191,-1199221.5833501513,-236675.50376328296,-412028.3853704874,-873481.9625544396,-61134.07640674017,394281.78404776787,-880020.8450685873,430931.9134129445,563888.3346444435,-2280734.238318818,-2355182.2360048285,1773298.7950145113,1383844.8407155296,-829500.778766078,-200758.07290430114,-83715.67374659148,-54416.07216655072,-332446.12813946547,-612656.1247117621,-1341907.1668850663,-207152.60835147896,-812338.7813008782,411279.47255232447,536685.4011227909,137777.57065477697,352862.8843757623,-686656.8174256063,-2664853.3704177276,28996.002961652954,-937016.9904007665,940880.9127400338,-308968.61961743044,-255473.09034144125,-401669.1188447074,300430.67167258053,-191849.4062046122,-440711.70140455366,-402798.7434959054,937910.5870069171,854383.467094594,133307.27062730122,-1203035.6632371838,-315356.8483799455,459466.61894538737,-945377.0860219543,1589361.1591926096,-277176.5835739549,-1259392.128005907,-794455.9070619232,-472532.6663404023,-1517414.2605100586,-629699.0294734193,1236435.559427636,5931989.500101757,759147.2392779198,-1186007.6273956252,311642.1044707673,-948227.1338336915,6825.773337854312,-851507.4614434044,-1225897.5942744147,-733047.5311883074,-718743.7863691417,-237732.3552007266,-2566218.309812417,336567.8020684459,-182416.89391834018,-616612.720985064,3386021.250524041,26960.42741012621,-540165.214449415,-728403.7942012952,26100.398744856586,-174918.63997226127,654673.3329375533,-1476121.3070670408,450885.7873061676,-685344.6251198859,-743601.7549414529,-1013524.4266123025,-299272.7531961327,1024982.3291967754,866531.9926973596,-53204.68410472486,869845.4912563346,-614107.6045420547,-88736.04071612787,-1452189.7627607181,575682.787968278,-542555.381009821,-705141.8003461667,-595886.7631445796,-401791.77504521725,-1832518.1990713275,-75598.45297039887,-404348.0066596407,-1206777.2529279564,102869.93578361753,3574138.976137442,-1208982.4620081403,-588670.9576873351,-843377.3660490165,-1304422.8557276984,633918.0339783287,842654.3850976137,1576844.5600792933,-22472.725695572288,495519.96026269556,-466801.0734793655,-1427573.1953689745,-554403.7153779637,824766.9998632444,383025.6755828503,-123558.8764516561,22641.140225309748,1289429.5937503309,-229453.19720366914,1607388.8787260556,-1036218.2432420944,876626.920354818,-490337.36016065755,1090391.61880715,-922033.0154884093,-1494465.934724577,-390874.79918261425,-2171314.475444979,-255888.72191546866,-741317.4356366548,-962954.9519200006,-523202.24116663635,526843.1194633078,-394201.1201137739,787974.5086375095,-3885587.542544498,-152121.35252853372,477332.8216014993,1731622.9406695354,-284155.4436184628,-270502.9156058866,-589650.7905479252,311194.25862392865,-514966.83070868993,-66585.51270853663,-1485929.8143664594,287260.9797141061,-345580.6686478571,1783202.6073429896,-3778127.8220589757,2260025.183232544,-72454.79238130138,-1584545.593373392,-756856.7862728545,54300.47605213821,-616463.3741453794,822290.0473646756,-1041510.8428391431,5027266.7168809995,-1218037.2493789052,-1717140.6193360155,-118534.55638237167,-308766.6221107897,-24794.84068225134,608706.3555483908,-263817.57811288,-125931.27628658207,-264400.3931056926,-1245906.5541950434,-554293.1029678627,-1538256.301156077,-946936.7018250525,-1346691.874664489,-344803.68983725604,-195246.48090774546,-189720.23662894583,516354.32838345616,-418116.6547735399,713151.6399158394,74056.631028986,-417710.2304935321,1505557.3609316908,-1108423.1501007369,-1184277.2628551426,84699.73522997618,-1995629.6258408984,-247653.35437331352,-158625.45626185514,-356914.86628010933,-840260.5324275036,-1274869.6164236094,-281017.66020892677,-975737.7922130958,2946958.123502508,-306859.3584948409,42713.29430908987,-760127.4850744394,-1175025.0212678765,-585276.4609178544,-3036081.0793879456,-1003404.4365430374,-367011.0744455006,-208227.77641688596,523251.0019591006,-1072473.9994938516,1000660.3595792347,1451668.7108736723,-63542.42491339053,-2754771.300290631,648880.0611479727,-1888804.866007244,1355083.5486961177,-2249116.7360605,1521331.2276684444,-625378.6658222736,-415491.44770339265,-220530.9292429571,-91506.4503742858,-717008.9474547036,-1369331.364279029,375573.9364999342,-656945.0173465312,796786.9462675616,-290011.513244158,-26154.175380720444,-1683511.793966696,-1295663.0365585897,831602.7798537206,226953.1239357076,-1299561.315189503,88456.45567325976,-1697004.3410584147,1733819.047757232,821045.2286234208,-2196891.830937191,-245731.21907523886,-79269.09061864963,2306620.766233614,-254264.04098720496,-1981752.8229501108,-352260.858063332,-68733.41302460937,2433199.9824940544,-701712.8762556792,16546.047770411587,3958046.8658765214,-2217310.785152305,-520843.6455296822,-1589595.2231136602,-595411.5796185543,1032962.6101681724,-357449.1093584407,-1305850.7495106352,-1110005.1851629592,-514458.1611909089,287163.43981438474,-257210.2947821204,667386.772525061,-1655768.6269085084,1869132.8383828008,-511684.3661173914,-1309730.7786565984,338591.9169923575,1004199.5162764401,-1605133.5516119315,624646.2306538027,-823123.7703968423,-102278.69915477448,444078.8896304683,-770869.841944284,-1285811.4613650853,446383.8778782962,-716490.3245896635,232935.27683428445,230258.302239226,29909.44906864818,-1814458.5497900466,-633098.0634337761,-75625.82351379255,-753331.5411065863,1564227.7640714531,-2136244.845139935,287501.03199659043,-1118103.0924838958,-658661.522438132,1786409.052693482,-314870.1684498075,-735683.0716039751,315065.9082038684,-182630.36016769466,-431498.408998466,-821951.7298257794,-593481.9879105431,-997399.7475334594,-128236.33090092207,-2674966.564744934,512246.8040724058,1015120.9671458446,4442085.005788654,249434.17969942244,-80008.98534770185,-1888272.995460582,2252471.49749278,-401387.48441569315,350766.4869040722,-1339979.3365019255,-273035.4403189188,-438929.8334152366,-1111364.4163486708,-1000732.4413339009,-252708.5934642729,-363828.4631961207,-345994.27641065663,-1249566.6192243947,-309706.49587947706,-783555.4603738649,4027104.429331771,-1403444.7368938723,-1431725.1658605733,-1467032.4846204924,-803886.8117688736,2597319.6682026316,-1623641.9519944377,-261769.94649050222,-715744.2205329485,-871400.5337721745,-261029.01579119073,-1942528.6128912503,1518723.5241856717,-587023.769909622,-417466.3932840207,-308801.95152052183,541167.4497453404,-2044635.0312194764,-179796.96520260535,-1478421.703052077,116733.66926985765,-234438.12329101693,-208256.03809506283,-377759.4319656751,130660.67215751593,-1432795.0940289628,-506436.20525837026,344917.27759337734,-1543131.383398435,-938376.4777028828,-210822.79886666383,182202.74354340593,2423351.249727917,2751382.8961585485,-1674242.0092741146,-806811.191859406,-536696.4810290417,-552863.061427803,-2004958.745423632,741678.2979933498,812379.2252557813,-385370.0341031238,7811780.339459168,-979977.1255705439,-435000.9260026285,980441.5443576418,-793881.2192410073,-850188.7407980666,14383.52289320179,-1134873.2525849734,-444936.3426798784,-1300868.5460215104,3339341.907604243,-525761.6263508229,-725710.4117416969,-1154508.6572922666,488435.5070723099,-292403.8943087287,-1073504.4728941722,-391199.33481290203,-364561.72585329006,-435328.5805862863,-2505604.016635888,-678814.0652717043,-894338.2910058598,-986715.6591069739,-578489.9766518767,-809297.426703197,-1271490.7575516722,651446.1935337759,-2396560.368516814,892630.3237397023,-643035.4904199148,1460041.8820952082,-368320.26909050037,-957727.0934616176,-234904.19901354116,-1456175.7206067084,2887101.296587986,-2145010.403940298,-642901.4241605598,0.0,-722319.6354435952,-289940.2799546766,-235755.45374244812,-1004019.0754115458,-210411.115072911,-533569.889737731,-1097950.4827664283,638738.1211570456,-213719.34183106534,-133566.49538017125,167669.0704707605,72320.24293000496,152398.1634696568,-4759.905419353942,67042.70770423213,71543.5745446755,-7665.5152331166255,-23346.788038073562,155810.0626046135,28922.81737714219,77439.18558403288,-113776.67747354526,-103881.77896898986,200682.04713387002,208598.37423092083,-39714.55966777695,400732.26131762855,108445.53190868627,-254487.04977173376,-338598.789895262,-245597.49457346872,-4.154797547335391,9966.922923921617]\n"
     ]
    }
   ],
   "source": [
    "coefficient = modelo.coefficients\n",
    "print(coefficient)"
   ]
  },
  {
   "cell_type": "markdown",
   "id": "f4d94175",
   "metadata": {},
   "source": [
    "Ahora mostraremos el intercept value de nuestro modelo"
   ]
  },
  {
   "cell_type": "code",
   "execution_count": 48,
   "id": "63614b02",
   "metadata": {},
   "outputs": [
    {
     "name": "stdout",
     "output_type": "stream",
     "text": [
      "971689.1524341\n"
     ]
    }
   ],
   "source": [
    "intercept = modelo.intercept\n",
    "print(intercept)"
   ]
  },
  {
   "cell_type": "markdown",
   "id": "3f2bd330",
   "metadata": {},
   "source": [
    "Ahora, evaluaremos el modelo usando la función de R2 que tiene incluída PySpark ML"
   ]
  },
  {
   "cell_type": "code",
   "execution_count": 49,
   "id": "f7e4641c",
   "metadata": {},
   "outputs": [
    {
     "name": "stderr",
     "output_type": "stream",
     "text": [
      "[Stage 80:====================================================>   (14 + 1) / 15]\r"
     ]
    },
    {
     "name": "stdout",
     "output_type": "stream",
     "text": [
      "r2: 0.718\n"
     ]
    },
    {
     "name": "stderr",
     "output_type": "stream",
     "text": [
      "                                                                                \r"
     ]
    }
   ],
   "source": [
    "from pyspark.ml.evaluation import RegressionEvaluator\n",
    "\n",
    "evaluation = RegressionEvaluator(labelCol=\"price\", predictionCol=\"prediction\")\n",
    "\n",
    "r2 = evaluation.evaluate(prediccion.predictions, {evaluation.metricName: \"r2\"})\n",
    "print(\"r2: %.3f\" %r2)"
   ]
  },
  {
   "cell_type": "markdown",
   "id": "6507ea63",
   "metadata": {},
   "source": [
    "Podemos observar que **nuestro modelo tiene un r2 de 71%** respecto a los datos que ya hemos visto, no está muy mal pero podría ser mejor.   \n",
    "\n",
    "Ahora probaremos con los datos que no ha visto el modelo antes:"
   ]
  },
  {
   "cell_type": "code",
   "execution_count": 50,
   "id": "b358c5e1",
   "metadata": {},
   "outputs": [
    {
     "name": "stderr",
     "output_type": "stream",
     "text": [
      "                                                                                \r"
     ]
    }
   ],
   "source": [
    "test_prediction = modelo.evaluate(test)"
   ]
  },
  {
   "cell_type": "markdown",
   "id": "00cf4825",
   "metadata": {},
   "source": [
    "Ahora a ojo de buen cubero, vamos a ver las nuevas predicciones"
   ]
  },
  {
   "cell_type": "code",
   "execution_count": 51,
   "id": "11bc8241",
   "metadata": {},
   "outputs": [
    {
     "name": "stderr",
     "output_type": "stream",
     "text": [
      "[Stage 84:>                                                         (0 + 1) / 1]\r"
     ]
    },
    {
     "name": "stdout",
     "output_type": "stream",
     "text": [
      "+--------------------+-------+------------------+\n",
      "|            features|  price|        prediction|\n",
      "+--------------------+-------+------------------+\n",
      "|(1131,[0,73,1098,...|4070000|3308410.5401063035|\n",
      "|(1131,[0,73,1098,...|4250000|3308410.5401063035|\n",
      "|(1131,[0,73,1098,...|4250000|3308410.5401063035|\n",
      "|(1131,[0,73,1098,...|4075000|3304255.7425589683|\n",
      "|(1131,[0,73,1098,...|4075000|3304255.7425589683|\n",
      "|(1131,[0,73,1098,...|4075000|3304255.7425589683|\n",
      "|(1131,[0,73,1098,...|4075000|3304255.7425589683|\n",
      "|(1131,[0,73,1098,...|4075000|3304255.7425589683|\n",
      "|(1131,[0,73,1098,...|4999999|3304255.7425589683|\n",
      "|(1131,[0,73,1098,...|4999999|3304255.7425589683|\n",
      "|(1131,[0,73,1098,...|4999999|3304255.7425589683|\n",
      "|(1131,[0,73,1098,...|4999999|3304255.7425589683|\n",
      "|(1131,[0,73,1098,...|4075000| 3300100.945011633|\n",
      "|(1131,[0,73,1098,...|4075000| 3300100.945011633|\n",
      "|(1131,[0,73,1098,...|4075000| 3300100.945011633|\n",
      "|(1131,[0,73,1098,...|3565000|3295946.1474642972|\n",
      "|(1131,[0,73,1098,...|3565000|3295946.1474642972|\n",
      "|(1131,[0,73,1098,...|3900000|3287636.5523696267|\n",
      "|(1131,[0,73,1098,...|3900000|3287636.5523696267|\n",
      "|(1131,[0,73,1098,...|3900000|3287636.5523696267|\n",
      "+--------------------+-------+------------------+\n",
      "only showing top 20 rows\n",
      "\n"
     ]
    },
    {
     "name": "stderr",
     "output_type": "stream",
     "text": [
      "                                                                                \r"
     ]
    }
   ],
   "source": [
    "test_prediction.predictions.show()"
   ]
  },
  {
   "cell_type": "markdown",
   "id": "f16ac5d5",
   "metadata": {},
   "source": [
    "Ahora obtendremos el r2 con los resultados de los datos que no vio el modelo:"
   ]
  },
  {
   "cell_type": "code",
   "execution_count": 52,
   "id": "8180d831",
   "metadata": {},
   "outputs": [
    {
     "name": "stderr",
     "output_type": "stream",
     "text": [
      "[Stage 85:====================================================>   (14 + 1) / 15]\r"
     ]
    },
    {
     "name": "stdout",
     "output_type": "stream",
     "text": [
      "r2: 0.721\n"
     ]
    },
    {
     "name": "stderr",
     "output_type": "stream",
     "text": [
      "                                                                                \r"
     ]
    }
   ],
   "source": [
    "evaluation = RegressionEvaluator(labelCol=\"price\", predictionCol=\"prediction\")\n",
    "\n",
    "r2 = evaluation.evaluate(test_prediction.predictions, {evaluation.metricName: \"r2\"})\n",
    "print(\"r2: %.3f\" %r2)"
   ]
  },
  {
   "cell_type": "markdown",
   "id": "72efb8be",
   "metadata": {},
   "source": [
    "Podemos observar que la predicción con los datos de prueba es de 72%, es mejor que lo que teníamos con los datos de entrenamiento, esto quiere decir que nuestro modelo presenta **underfitting**, aunque viendo las predicciones tenemos **varianza baja**. 😄"
   ]
  },
  {
   "cell_type": "markdown",
   "id": "04a49551",
   "metadata": {},
   "source": [
    "## 5. Generando un tablero de visualización con Tableau"
   ]
  },
  {
   "cell_type": "markdown",
   "id": "1ac9374a",
   "metadata": {},
   "source": [
    "Para crear el tablero de visualización, usaré el dataset arreglado de valores nulos, así no tendré información que falta y podré ver también cómo están pasando las cosas dentro del dataset. No importa si son datos grandes, la visualización nos ayudará a comprender mejor en vez de observar sólo números.   \n",
    "\n",
    "La herramienta a utilizar será Tableau.\n",
    "\n",
    "Haciendo varias combinaciones del precio respecto a otras columnas pude percatarme de que había algo que no tenía relación directa con el precio...   \n",
    "\n",
    "Ahora mostraremos nuestro primer gráfico"
   ]
  },
  {
   "cell_type": "markdown",
   "id": "30f2a0e9",
   "metadata": {},
   "source": [
    "### Precio vs marca y millas recorridas\n",
    "![kilometraje vs precio](images/kilometraje_vs_precio.png)\n",
    "En este gráfico podemos observar que las millas recorridas tienen cierta relación por el precio de los automóviles, en el dataset, los automóviles que son de marcas menos reconocidas que las más reconocidas, tienden a tener mayor kilometraje y su precio se reduce más."
   ]
  },
  {
   "cell_type": "markdown",
   "id": "c978393b",
   "metadata": {},
   "source": [
    "### Precio vs marca y caballos de fuerza\n",
    "![Precio vs marca y caballos de fuerza](images/caballos_vs_precio.png)\n",
    "En este gráfico podemos observar que los precios aumentan entre más caballos de fuerza tengan los automóviles, claramente con marcas como Lamborghini siento el top."
   ]
  },
  {
   "cell_type": "markdown",
   "id": "ce2fb53a",
   "metadata": {},
   "source": [
    "### Precio vs marca, caballos de fuerza y transmisión\n",
    "![Precio vs marca, caballos de fuerza y transmisión](images/precio_vs_marca_caballos_transmision.png)\n",
    "En este gráfico podemos observar que la transmisión también juega un papel en el aumento del precio de los automóviles."
   ]
  },
  {
   "cell_type": "markdown",
   "id": "469aeb57",
   "metadata": {},
   "source": [
    "### Precio marca y modelo\n",
    "![Precio vs marca, caballos de fuerza y transmisión](images/precio_vs_marca_y_modelo.png)\n",
    "En este gráfico podemos observar que el precio depende mucho de la marca pero al mismo tiempo del modelo que estás adquiriendo, ya que existen mejores modelos que otros, lo cual hace que cambien sus precios de venta. "
   ]
  },
  {
   "cell_type": "markdown",
   "id": "473caddb",
   "metadata": {},
   "source": [
    "### Tipo de combustible vs la mediana del precio\n",
    "![Tipo de combustible vs la mediana del precio](images/combustible_vs_medianPrice.png)\n",
    "En este gráfico podemos observar que el precio por el tipo de combustible es mayor en el diesel, convirtiéndolo en el tipo de automóvil más caro por combustión, después sigue el eléctrico y al final la gasolina.   \n",
    "\n",
    "Esto me hace pensar que como el automóvil de gasolina se vende más barato que uno eléctrico, sigue siendo la opción principal de las personas al momento de su compra."
   ]
  },
  {
   "cell_type": "markdown",
   "id": "3d047f2a",
   "metadata": {},
   "source": [
    "### Tipo de carrocería vs precio\n",
    "![Tipo de carrocería vs precio](images/carroceria_vs_precio.png)\n",
    "Finalmente, en este gráfico podemos observar que el tipo de carrocería es un poco representativo en el precio, ya que existen muchos tipos y el precio más alto aplica en sólo las que se consideran de lujo o especiales.\n",
    "\n",
    "Por el momento es todo el análisis que se me ocurrió hacer y espero sea suficiente. Concluyo que quizá cambiando o quitando columnas pueda mejorar el resultado de predicción, o bien, usando otro modelo para realizar las predicciones del precio de los automóviles.   \n",
    "\n",
    "Me siento satisfecho por el trabajo realizado, ¡muchas gracias! 😊."
   ]
  }
 ],
 "metadata": {
  "kernelspec": {
   "display_name": "Python 3.10.3 64-bit",
   "language": "python",
   "name": "python3"
  },
  "language_info": {
   "codemirror_mode": {
    "name": "ipython",
    "version": 3
   },
   "file_extension": ".py",
   "mimetype": "text/x-python",
   "name": "python",
   "nbconvert_exporter": "python",
   "pygments_lexer": "ipython3",
   "version": "3.10.3"
  },
  "vscode": {
   "interpreter": {
    "hash": "c47c896eb7d247e37b2e85063757fb1d5709b8397f6f1d76972efaa0b0675ad6"
   }
  }
 },
 "nbformat": 4,
 "nbformat_minor": 5
}
